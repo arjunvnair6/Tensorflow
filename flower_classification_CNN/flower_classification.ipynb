{
 "cells": [
  {
   "cell_type": "markdown",
   "metadata": {},
   "source": [
    "# CNN Flower Classificaion"
   ]
  },
  {
   "cell_type": "markdown",
   "metadata": {},
   "source": [
    "### Imports"
   ]
  },
  {
   "cell_type": "code",
   "execution_count": 111,
   "metadata": {},
   "outputs": [],
   "source": [
    "import os\n",
    "import matplotlib.pyplot as plt\n",
    "import tensorflow as tf\n",
    "import numpy as np\n",
    "from tensorflow.keras.preprocessing.image import ImageDataGenerator"
   ]
  },
  {
   "cell_type": "markdown",
   "metadata": {},
   "source": [
    "### Importing validation and train dataset"
   ]
  },
  {
   "cell_type": "code",
   "execution_count": 112,
   "metadata": {},
   "outputs": [
    {
     "name": "stdout",
     "output_type": "stream",
     "text": [
      "..\\flower_classification_CNN\\flower_photos\\train\n"
     ]
    }
   ],
   "source": [
    "base_dir = '..\\\\flower_classification_CNN\\\\flower_photos'\n",
    "train_dir = os.path.join(base_dir, 'train')\n",
    "val_dir = os.path.join(base_dir, 'val')\n",
    "print(train_dir)"
   ]
  },
  {
   "cell_type": "code",
   "execution_count": 117,
   "metadata": {},
   "outputs": [
    {
     "name": "stdout",
     "output_type": "stream",
     "text": [
      "Found 2935 images belonging to 5 classes.\n",
      "<keras.preprocessing.image.DirectoryIterator object at 0x0000022F84903970>\n",
      "Found 735 images belonging to 5 classes.\n"
     ]
    }
   ],
   "source": [
    "image_gen = ImageDataGenerator(  rescale=1./255,\n",
    "      rotation_range=40,\n",
    "      width_shift_range=0.2,\n",
    "      height_shift_range=0.2,\n",
    "      shear_range=0.2,\n",
    "      zoom_range=0.2,\n",
    "      horizontal_flip=True,\n",
    "      fill_mode='nearest')\n",
    "\n",
    "train_data = image_gen.flow_from_directory(batch_size=100, \n",
    "                                            directory=train_dir, \n",
    "                                            shuffle=True, \n",
    "                                            target_size=(150,150),\n",
    "                                            class_mode='sparse')\n",
    "print(train_data)\n",
    "def plotImages(images_arr):\n",
    "    fig, axes = plt.subplots(1, 5, figsize=(20,20))\n",
    "    axes = axes.flatten()\n",
    "    for img, ax in zip(images_arr, axes):\n",
    "        ax.imshow(img)\n",
    "    plt.tight_layout()\n",
    "    plt.show()\n",
    "\n",
    "\n",
    "# augmented_images = [train_data[0][0][0] for i in range(5)]\n",
    "# plotImages(augmented_images)\n",
    "\n",
    "image_gen_val = ImageDataGenerator(rescale=1./255)\n",
    "\n",
    "val_data_gen = image_gen_val.flow_from_directory(batch_size=100,\n",
    "                                                 directory=val_dir,\n",
    "                                                 target_size=(150, 150),\n",
    "                                                 class_mode='sparse')"
   ]
  },
  {
   "cell_type": "markdown",
   "metadata": {},
   "source": [
    "### Creating Model"
   ]
  },
  {
   "cell_type": "code",
   "execution_count": 118,
   "metadata": {},
   "outputs": [],
   "source": [
    "model = tf.keras.models.Sequential([\n",
    "    tf.keras.layers.Conv2D(32, (3,3), activation='relu', input_shape=(150, 150, 3)),\n",
    "    tf.keras.layers.MaxPooling2D(2, 2),\n",
    "\n",
    "    tf.keras.layers.Conv2D(64, (3,3), activation='relu'),\n",
    "    tf.keras.layers.MaxPooling2D(2,2),\n",
    "\n",
    "    tf.keras.layers.Conv2D(128, (3,3), activation='relu'),\n",
    "    tf.keras.layers.MaxPooling2D(2,2),\n",
    "\n",
    "    tf.keras.layers.Conv2D(128, (3,3), activation='relu'),\n",
    "    tf.keras.layers.MaxPooling2D(2,2),\n",
    "\n",
    "    tf.keras.layers.Dropout(0.2),\n",
    "    tf.keras.layers.Flatten(),\n",
    "    tf.keras.layers.Dense(512, activation='relu'),\n",
    "    tf.keras.layers.Dense(5, activation=tf.nn.softmax)\n",
    "])"
   ]
  },
  {
   "cell_type": "markdown",
   "metadata": {},
   "source": [
    "### Compiling Model"
   ]
  },
  {
   "cell_type": "code",
   "execution_count": 119,
   "metadata": {},
   "outputs": [
    {
     "name": "stdout",
     "output_type": "stream",
     "text": [
      "Model: \"sequential_7\"\n",
      "_________________________________________________________________\n",
      " Layer (type)                Output Shape              Param #   \n",
      "=================================================================\n",
      " conv2d_28 (Conv2D)          (None, 148, 148, 32)      896       \n",
      "                                                                 \n",
      " max_pooling2d_28 (MaxPoolin  (None, 74, 74, 32)       0         \n",
      " g2D)                                                            \n",
      "                                                                 \n",
      " conv2d_29 (Conv2D)          (None, 72, 72, 64)        18496     \n",
      "                                                                 \n",
      " max_pooling2d_29 (MaxPoolin  (None, 36, 36, 64)       0         \n",
      " g2D)                                                            \n",
      "                                                                 \n",
      " conv2d_30 (Conv2D)          (None, 34, 34, 128)       73856     \n",
      "                                                                 \n",
      " max_pooling2d_30 (MaxPoolin  (None, 17, 17, 128)      0         \n",
      " g2D)                                                            \n",
      "                                                                 \n",
      " conv2d_31 (Conv2D)          (None, 15, 15, 128)       147584    \n",
      "                                                                 \n",
      " max_pooling2d_31 (MaxPoolin  (None, 7, 7, 128)        0         \n",
      " g2D)                                                            \n",
      "                                                                 \n",
      " dropout_7 (Dropout)         (None, 7, 7, 128)         0         \n",
      "                                                                 \n",
      " flatten_7 (Flatten)         (None, 6272)              0         \n",
      "                                                                 \n",
      " dense_14 (Dense)            (None, 512)               3211776   \n",
      "                                                                 \n",
      " dense_15 (Dense)            (None, 5)                 2565      \n",
      "                                                                 \n",
      "=================================================================\n",
      "Total params: 3,455,173\n",
      "Trainable params: 3,455,173\n",
      "Non-trainable params: 0\n",
      "_________________________________________________________________\n"
     ]
    }
   ],
   "source": [
    "model.compile(optimizer='adam',\n",
    "              loss=tf.keras.losses.SparseCategoricalCrossentropy(from_logits=True),\n",
    "              metrics=['accuracy'])\n",
    "model.summary()"
   ]
  },
  {
   "cell_type": "code",
   "execution_count": 120,
   "metadata": {},
   "outputs": [
    {
     "name": "stdout",
     "output_type": "stream",
     "text": [
      "Epoch 1/80\n",
      "30/30 [==============================] - 48s 2s/step - loss: 1.5074 - accuracy: 0.3635 - val_loss: 1.4289 - val_accuracy: 0.4707\n",
      "Epoch 2/80\n",
      "30/30 [==============================] - 43s 1s/step - loss: 1.4571 - accuracy: 0.4412 - val_loss: 1.3956 - val_accuracy: 0.5048\n",
      "Epoch 3/80\n",
      "30/30 [==============================] - 39s 1s/step - loss: 1.4159 - accuracy: 0.4872 - val_loss: 1.3587 - val_accuracy: 0.5374\n",
      "Epoch 4/80\n",
      "30/30 [==============================] - 40s 1s/step - loss: 1.4040 - accuracy: 0.4937 - val_loss: 1.3516 - val_accuracy: 0.5524\n",
      "Epoch 5/80\n",
      "30/30 [==============================] - 40s 1s/step - loss: 1.3741 - accuracy: 0.5271 - val_loss: 1.3533 - val_accuracy: 0.5456\n",
      "Epoch 6/80\n",
      "30/30 [==============================] - 40s 1s/step - loss: 1.3629 - accuracy: 0.5359 - val_loss: 1.3168 - val_accuracy: 0.5823\n",
      "Epoch 7/80\n",
      "30/30 [==============================] - 39s 1s/step - loss: 1.3482 - accuracy: 0.5520 - val_loss: 1.2995 - val_accuracy: 0.6000\n",
      "Epoch 8/80\n",
      "30/30 [==============================] - 39s 1s/step - loss: 1.3450 - accuracy: 0.5540 - val_loss: 1.2985 - val_accuracy: 0.6027\n",
      "Epoch 9/80\n",
      "30/30 [==============================] - 39s 1s/step - loss: 1.3368 - accuracy: 0.5639 - val_loss: 1.2745 - val_accuracy: 0.6245\n",
      "Epoch 10/80\n",
      "30/30 [==============================] - 39s 1s/step - loss: 1.3197 - accuracy: 0.5813 - val_loss: 1.2839 - val_accuracy: 0.6163\n",
      "Epoch 11/80\n",
      "30/30 [==============================] - 39s 1s/step - loss: 1.3252 - accuracy: 0.5738 - val_loss: 1.3385 - val_accuracy: 0.5660\n",
      "Epoch 12/80\n",
      "30/30 [==============================] - 42s 1s/step - loss: 1.3297 - accuracy: 0.5724 - val_loss: 1.2889 - val_accuracy: 0.6150\n",
      "Epoch 13/80\n",
      "30/30 [==============================] - 43s 1s/step - loss: 1.3195 - accuracy: 0.5765 - val_loss: 1.3096 - val_accuracy: 0.5973\n",
      "Epoch 14/80\n",
      "30/30 [==============================] - 43s 1s/step - loss: 1.3216 - accuracy: 0.5772 - val_loss: 1.2916 - val_accuracy: 0.6068\n",
      "Epoch 15/80\n",
      "30/30 [==============================] - 43s 1s/step - loss: 1.3125 - accuracy: 0.5853 - val_loss: 1.2559 - val_accuracy: 0.6544\n",
      "Epoch 16/80\n",
      "30/30 [==============================] - 43s 1s/step - loss: 1.2935 - accuracy: 0.6065 - val_loss: 1.2755 - val_accuracy: 0.6231\n",
      "Epoch 17/80\n",
      "30/30 [==============================] - 43s 1s/step - loss: 1.3082 - accuracy: 0.5918 - val_loss: 1.2643 - val_accuracy: 0.6381\n",
      "Epoch 18/80\n",
      "30/30 [==============================] - 42s 1s/step - loss: 1.2852 - accuracy: 0.6147 - val_loss: 1.2330 - val_accuracy: 0.6667\n",
      "Epoch 19/80\n",
      "30/30 [==============================] - 42s 1s/step - loss: 1.2799 - accuracy: 0.6245 - val_loss: 1.2751 - val_accuracy: 0.6218\n",
      "Epoch 20/80\n",
      "30/30 [==============================] - 42s 1s/step - loss: 1.2744 - accuracy: 0.6252 - val_loss: 1.2416 - val_accuracy: 0.6585\n",
      "Epoch 21/80\n",
      "30/30 [==============================] - 43s 1s/step - loss: 1.2889 - accuracy: 0.6099 - val_loss: 1.2348 - val_accuracy: 0.6694\n",
      "Epoch 22/80\n",
      "30/30 [==============================] - 41s 1s/step - loss: 1.2793 - accuracy: 0.6215 - val_loss: 1.2269 - val_accuracy: 0.6707\n",
      "Epoch 23/80\n",
      "30/30 [==============================] - 37s 1s/step - loss: 1.2873 - accuracy: 0.6150 - val_loss: 1.2346 - val_accuracy: 0.6680\n",
      "Epoch 24/80\n",
      "30/30 [==============================] - 37s 1s/step - loss: 1.2909 - accuracy: 0.6119 - val_loss: 1.2589 - val_accuracy: 0.6395\n",
      "Epoch 25/80\n",
      "30/30 [==============================] - 37s 1s/step - loss: 1.2961 - accuracy: 0.6031 - val_loss: 1.2570 - val_accuracy: 0.6422\n",
      "Epoch 26/80\n",
      "30/30 [==============================] - 45s 1s/step - loss: 1.2878 - accuracy: 0.6109 - val_loss: 1.2174 - val_accuracy: 0.6884\n",
      "Epoch 27/80\n",
      "30/30 [==============================] - 47s 2s/step - loss: 1.2696 - accuracy: 0.6341 - val_loss: 1.2112 - val_accuracy: 0.6912\n",
      "Epoch 28/80\n",
      "30/30 [==============================] - 47s 2s/step - loss: 1.2874 - accuracy: 0.6143 - val_loss: 1.2197 - val_accuracy: 0.6762\n",
      "Epoch 29/80\n",
      "30/30 [==============================] - 44s 1s/step - loss: 1.2520 - accuracy: 0.6487 - val_loss: 1.2157 - val_accuracy: 0.6803\n",
      "Epoch 30/80\n",
      "30/30 [==============================] - 42s 1s/step - loss: 1.2626 - accuracy: 0.6382 - val_loss: 1.2211 - val_accuracy: 0.6748\n",
      "Epoch 31/80\n",
      "30/30 [==============================] - 42s 1s/step - loss: 1.2507 - accuracy: 0.6480 - val_loss: 1.2445 - val_accuracy: 0.6599\n",
      "Epoch 32/80\n",
      "30/30 [==============================] - 42s 1s/step - loss: 1.2632 - accuracy: 0.6351 - val_loss: 1.2522 - val_accuracy: 0.6449\n",
      "Epoch 33/80\n",
      "30/30 [==============================] - 42s 1s/step - loss: 1.2751 - accuracy: 0.6256 - val_loss: 1.2298 - val_accuracy: 0.6721\n",
      "Epoch 34/80\n",
      "30/30 [==============================] - 42s 1s/step - loss: 1.2769 - accuracy: 0.6245 - val_loss: 1.2372 - val_accuracy: 0.6667\n",
      "Epoch 35/80\n",
      "30/30 [==============================] - 42s 1s/step - loss: 1.2743 - accuracy: 0.6262 - val_loss: 1.2286 - val_accuracy: 0.6707\n",
      "Epoch 36/80\n",
      "30/30 [==============================] - 42s 1s/step - loss: 1.2758 - accuracy: 0.6259 - val_loss: 1.2347 - val_accuracy: 0.6612\n",
      "Epoch 37/80\n",
      "30/30 [==============================] - 42s 1s/step - loss: 1.2517 - accuracy: 0.6504 - val_loss: 1.2345 - val_accuracy: 0.6694\n",
      "Epoch 38/80\n",
      "30/30 [==============================] - 42s 1s/step - loss: 1.2955 - accuracy: 0.6020 - val_loss: 1.2282 - val_accuracy: 0.6762\n",
      "Epoch 39/80\n",
      "30/30 [==============================] - 42s 1s/step - loss: 1.2660 - accuracy: 0.6351 - val_loss: 1.2427 - val_accuracy: 0.6558\n",
      "Epoch 40/80\n",
      "30/30 [==============================] - 42s 1s/step - loss: 1.2656 - accuracy: 0.6348 - val_loss: 1.2252 - val_accuracy: 0.6748\n",
      "Epoch 41/80\n",
      "30/30 [==============================] - 42s 1s/step - loss: 1.2714 - accuracy: 0.6310 - val_loss: 1.2647 - val_accuracy: 0.6354\n",
      "Epoch 42/80\n",
      "30/30 [==============================] - 42s 1s/step - loss: 1.2735 - accuracy: 0.6245 - val_loss: 1.2243 - val_accuracy: 0.6748\n",
      "Epoch 43/80\n",
      "30/30 [==============================] - 42s 1s/step - loss: 1.2536 - accuracy: 0.6457 - val_loss: 1.2390 - val_accuracy: 0.6599\n",
      "Epoch 44/80\n",
      "30/30 [==============================] - 42s 1s/step - loss: 1.2678 - accuracy: 0.6330 - val_loss: 1.2339 - val_accuracy: 0.6680\n",
      "Epoch 45/80\n",
      "30/30 [==============================] - 42s 1s/step - loss: 1.2494 - accuracy: 0.6532 - val_loss: 1.2139 - val_accuracy: 0.6844\n",
      "Epoch 46/80\n",
      "30/30 [==============================] - 42s 1s/step - loss: 1.2494 - accuracy: 0.6504 - val_loss: 1.2141 - val_accuracy: 0.6844\n",
      "Epoch 47/80\n",
      "30/30 [==============================] - 42s 1s/step - loss: 1.2417 - accuracy: 0.6603 - val_loss: 1.2010 - val_accuracy: 0.7061\n",
      "Epoch 48/80\n",
      "30/30 [==============================] - 42s 1s/step - loss: 1.2402 - accuracy: 0.6624 - val_loss: 1.2309 - val_accuracy: 0.6680\n",
      "Epoch 49/80\n",
      "30/30 [==============================] - 42s 1s/step - loss: 1.2399 - accuracy: 0.6624 - val_loss: 1.2314 - val_accuracy: 0.6653\n",
      "Epoch 50/80\n",
      "30/30 [==============================] - 40s 1s/step - loss: 1.2684 - accuracy: 0.6310 - val_loss: 1.2005 - val_accuracy: 0.6925\n",
      "Epoch 51/80\n",
      "30/30 [==============================] - 42s 1s/step - loss: 1.2453 - accuracy: 0.6555 - val_loss: 1.1981 - val_accuracy: 0.7007\n",
      "Epoch 52/80\n",
      "30/30 [==============================] - 43s 1s/step - loss: 1.2551 - accuracy: 0.6450 - val_loss: 1.1796 - val_accuracy: 0.7211\n",
      "Epoch 53/80\n",
      "30/30 [==============================] - 43s 1s/step - loss: 1.2204 - accuracy: 0.6787 - val_loss: 1.1947 - val_accuracy: 0.7088\n",
      "Epoch 54/80\n",
      "30/30 [==============================] - 43s 1s/step - loss: 1.2559 - accuracy: 0.6443 - val_loss: 1.1952 - val_accuracy: 0.7075\n",
      "Epoch 55/80\n",
      "30/30 [==============================] - 43s 1s/step - loss: 1.2183 - accuracy: 0.6818 - val_loss: 1.1880 - val_accuracy: 0.7197\n",
      "Epoch 56/80\n",
      "30/30 [==============================] - 43s 1s/step - loss: 1.2130 - accuracy: 0.6879 - val_loss: 1.2164 - val_accuracy: 0.6871\n",
      "Epoch 57/80\n",
      "30/30 [==============================] - 43s 1s/step - loss: 1.2176 - accuracy: 0.6838 - val_loss: 1.1869 - val_accuracy: 0.7143\n",
      "Epoch 58/80\n",
      "30/30 [==============================] - 43s 1s/step - loss: 1.2152 - accuracy: 0.6852 - val_loss: 1.1870 - val_accuracy: 0.7170\n",
      "Epoch 59/80\n",
      "30/30 [==============================] - 43s 1s/step - loss: 1.2066 - accuracy: 0.6934 - val_loss: 1.1812 - val_accuracy: 0.7197\n",
      "Epoch 60/80\n",
      "30/30 [==============================] - 43s 1s/step - loss: 1.2179 - accuracy: 0.6831 - val_loss: 1.1975 - val_accuracy: 0.7034\n",
      "Epoch 61/80\n",
      "30/30 [==============================] - 43s 1s/step - loss: 1.2004 - accuracy: 0.6995 - val_loss: 1.1780 - val_accuracy: 0.7252\n",
      "Epoch 62/80\n",
      "30/30 [==============================] - 43s 1s/step - loss: 1.2167 - accuracy: 0.6842 - val_loss: 1.2122 - val_accuracy: 0.6912\n",
      "Epoch 63/80\n",
      "30/30 [==============================] - 43s 1s/step - loss: 1.1950 - accuracy: 0.7083 - val_loss: 1.1539 - val_accuracy: 0.7469\n",
      "Epoch 64/80\n",
      "30/30 [==============================] - 43s 1s/step - loss: 1.2123 - accuracy: 0.6889 - val_loss: 1.1983 - val_accuracy: 0.7048\n",
      "Epoch 65/80\n",
      "30/30 [==============================] - 43s 1s/step - loss: 1.2010 - accuracy: 0.7022 - val_loss: 1.1754 - val_accuracy: 0.7238\n",
      "Epoch 66/80\n",
      "30/30 [==============================] - 43s 1s/step - loss: 1.1884 - accuracy: 0.7135 - val_loss: 1.1580 - val_accuracy: 0.7442\n",
      "Epoch 67/80\n",
      "30/30 [==============================] - 43s 1s/step - loss: 1.1915 - accuracy: 0.7097 - val_loss: 1.1781 - val_accuracy: 0.7265\n",
      "Epoch 68/80\n",
      "30/30 [==============================] - 43s 1s/step - loss: 1.1950 - accuracy: 0.7056 - val_loss: 1.1657 - val_accuracy: 0.7347\n",
      "Epoch 69/80\n",
      "30/30 [==============================] - 43s 1s/step - loss: 1.2042 - accuracy: 0.6940 - val_loss: 1.1744 - val_accuracy: 0.7238\n",
      "Epoch 70/80\n",
      "30/30 [==============================] - 43s 1s/step - loss: 1.1914 - accuracy: 0.7083 - val_loss: 1.1654 - val_accuracy: 0.7347\n",
      "Epoch 71/80\n",
      "30/30 [==============================] - 43s 1s/step - loss: 1.1845 - accuracy: 0.7165 - val_loss: 1.1689 - val_accuracy: 0.7279\n",
      "Epoch 72/80\n",
      "30/30 [==============================] - 43s 1s/step - loss: 1.1786 - accuracy: 0.7230 - val_loss: 1.1737 - val_accuracy: 0.7306\n",
      "Epoch 73/80\n",
      "30/30 [==============================] - 45s 1s/step - loss: 1.1800 - accuracy: 0.7213 - val_loss: 1.1740 - val_accuracy: 0.7197\n",
      "Epoch 74/80\n",
      "30/30 [==============================] - 43s 1s/step - loss: 1.1668 - accuracy: 0.7356 - val_loss: 1.1606 - val_accuracy: 0.7429\n",
      "Epoch 75/80\n",
      "30/30 [==============================] - 43s 1s/step - loss: 1.1736 - accuracy: 0.7308 - val_loss: 1.1624 - val_accuracy: 0.7442\n",
      "Epoch 76/80\n",
      "30/30 [==============================] - 46s 2s/step - loss: 1.1748 - accuracy: 0.7250 - val_loss: 1.1858 - val_accuracy: 0.7129\n",
      "Epoch 77/80\n",
      "30/30 [==============================] - 43s 1s/step - loss: 1.2037 - accuracy: 0.6961 - val_loss: 1.1675 - val_accuracy: 0.7347\n",
      "Epoch 78/80\n",
      "30/30 [==============================] - 43s 1s/step - loss: 1.1712 - accuracy: 0.7302 - val_loss: 1.1832 - val_accuracy: 0.7184\n",
      "Epoch 79/80\n",
      "30/30 [==============================] - 43s 1s/step - loss: 1.1760 - accuracy: 0.7267 - val_loss: 1.1472 - val_accuracy: 0.7551\n",
      "Epoch 80/80\n",
      "30/30 [==============================] - 43s 1s/step - loss: 1.1666 - accuracy: 0.7353 - val_loss: 1.1709 - val_accuracy: 0.7293\n"
     ]
    }
   ],
   "source": [
    "\n",
    "classes = ['daisy','dandelion','roses','sunflowers','tulips']\n",
    "history = model.fit(\n",
    "    train_data,\n",
    "    steps_per_epoch=int(np.ceil(train_data.n / float(100))),\n",
    "    epochs=80,\n",
    "    validation_data=val_data_gen,\n",
    "    validation_steps=int(np.ceil(val_data_gen.n / float(100)))\n",
    ")"
   ]
  },
  {
   "cell_type": "code",
   "execution_count": 121,
   "metadata": {},
   "outputs": [
    {
     "data": {
      "image/png": "[encoded data removed]",
      "text/plain": [
       "<Figure size 576x576 with 2 Axes>"
      ]
     },
     "metadata": {
      "needs_background": "light"
     },
     "output_type": "display_data"
    }
   ],
   "source": [
    "acc = history.history['accuracy']\n",
    "val_acc = history.history['val_accuracy']\n",
    "\n",
    "loss = history.history['loss']\n",
    "val_loss = history.history['val_loss']\n",
    "\n",
    "epochs_range = range(80)\n",
    "\n",
    "plt.figure(figsize=(8, 8))\n",
    "plt.subplot(1, 2, 1)\n",
    "plt.plot(epochs_range, acc, label='Training Accuracy')\n",
    "plt.plot(epochs_range, val_acc, label='Validation Accuracy')\n",
    "plt.legend(loc='lower right')\n",
    "plt.title('Training and Validation Accuracy')\n",
    "\n",
    "plt.subplot(1, 2, 2)\n",
    "plt.plot(epochs_range, loss, label='Training Loss')\n",
    "plt.plot(epochs_range, val_loss, label='Validation Loss')\n",
    "plt.legend(loc='upper right')\n",
    "plt.title('Training and Validation Loss')\n",
    "plt.show()"
   ]
  }
 ],
 "metadata": {
  "interpreter": {
   "hash": "8efbfa445464d266a5975ea258df51dc9eab21d3140399b9031a2e54e559f819"
  },
  "kernelspec": {
   "display_name": "Python 3.10.4 64-bit (windows store)",
   "language": "python",
   "name": "python3"
  },
  "language_info": {
   "codemirror_mode": {
    "name": "ipython",
    "version": 3
   },
   "file_extension": ".py",
   "mimetype": "text/x-python",
   "name": "python",
   "nbconvert_exporter": "python",
   "pygments_lexer": "ipython3",
   "version": "3.10.4"
  },
  "orig_nbformat": 4
 },
 "nbformat": 4,
 "nbformat_minor": 2
}
